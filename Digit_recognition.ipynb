{
 "cells": [
  {
   "cell_type": "code",
   "execution_count": 1,
   "metadata": {
    "_cell_guid": "b1076dfc-b9ad-4769-8c92-a6c4dae69d19",
    "_uuid": "8f2839f25d086af736a60e9eeb907d3b93b6e0e5",
    "execution": {
     "iopub.execute_input": "2020-12-07T18:05:41.288782Z",
     "iopub.status.busy": "2020-12-07T18:05:41.287638Z",
     "iopub.status.idle": "2020-12-07T18:05:41.294669Z",
     "shell.execute_reply": "2020-12-07T18:05:41.293936Z"
    },
    "papermill": {
     "duration": 0.045753,
     "end_time": "2020-12-07T18:05:41.294806",
     "exception": false,
     "start_time": "2020-12-07T18:05:41.249053",
     "status": "completed"
    },
    "tags": []
   },
   "outputs": [
    {
     "name": "stdout",
     "output_type": "stream",
     "text": [
      "/kaggle/input/digit-recognizer/train.csv\n",
      "/kaggle/input/digit-recognizer/test.csv\n"
     ]
    }
   ],
   "source": [
    "# This Python 3 environment comes with many helpful analytics libraries installed\n",
    "# It is defined by the kaggle/python Docker image: https://github.com/kaggle/docker-python\n",
    "# For example, here's several helpful packages to load\n",
    "\n",
    "import numpy as np # linear algebra\n",
    "import pandas as pd # data processing, CSV file I/O (e.g. pd.read_csv)\n",
    "\n",
    "# Input data files are available in the read-only \"../input/\" directory\n",
    "# For example, running this (by clicking run or pressing Shift+Enter) will list all files under the input directory\n",
    "\n",
    "import os\n",
    "for dirname, _, filenames in os.walk('/kaggle/input'):\n",
    "    for filename in filenames:\n",
    "        print(os.path.join(dirname, filename))\n",
    "\n",
    "# You can write up to 20GB to the current directory (/kaggle/working/) that gets preserved as output when you create a version using \"Save & Run All\" \n",
    "# You can also write temporary files to /kaggle/temp/, but they won't be saved outside of the current session"
   ]
  },
  {
   "cell_type": "code",
   "execution_count": 2,
   "metadata": {
    "_cell_guid": "79c7e3d0-c299-4dcb-8224-4455121ee9b0",
    "_uuid": "d629ff2d2480ee46fbb7e2d37f6b5fab8052498a",
    "execution": {
     "iopub.execute_input": "2020-12-07T18:05:41.338741Z",
     "iopub.status.busy": "2020-12-07T18:05:41.338130Z",
     "iopub.status.idle": "2020-12-07T18:05:47.197393Z",
     "shell.execute_reply": "2020-12-07T18:05:47.196739Z"
    },
    "papermill": {
     "duration": 5.8818,
     "end_time": "2020-12-07T18:05:47.197537",
     "exception": false,
     "start_time": "2020-12-07T18:05:41.315737",
     "status": "completed"
    },
    "tags": []
   },
   "outputs": [],
   "source": [
    "import pandas as pd\n",
    "import numpy as np\n",
    "\n",
    "np.random.seed(1212)\n",
    "\n",
    "import keras\n",
    "from keras.models import Model\n",
    "from keras.layers import *\n",
    "from keras import optimizers"
   ]
  },
  {
   "cell_type": "code",
   "execution_count": 3,
   "metadata": {
    "execution": {
     "iopub.execute_input": "2020-12-07T18:05:47.245577Z",
     "iopub.status.busy": "2020-12-07T18:05:47.244911Z",
     "iopub.status.idle": "2020-12-07T18:05:53.307024Z",
     "shell.execute_reply": "2020-12-07T18:05:53.307551Z"
    },
    "papermill": {
     "duration": 6.089631,
     "end_time": "2020-12-07T18:05:53.307707",
     "exception": false,
     "start_time": "2020-12-07T18:05:47.218076",
     "status": "completed"
    },
    "tags": []
   },
   "outputs": [],
   "source": [
    "df_train = pd.read_csv('../input/digit-recognizer/train.csv')\n",
    "df_test = pd.read_csv('../input/digit-recognizer/test.csv')"
   ]
  },
  {
   "cell_type": "code",
   "execution_count": 4,
   "metadata": {
    "execution": {
     "iopub.execute_input": "2020-12-07T18:05:53.359217Z",
     "iopub.status.busy": "2020-12-07T18:05:53.358287Z",
     "iopub.status.idle": "2020-12-07T18:05:53.388250Z",
     "shell.execute_reply": "2020-12-07T18:05:53.388774Z"
    },
    "papermill": {
     "duration": 0.06046,
     "end_time": "2020-12-07T18:05:53.388901",
     "exception": false,
     "start_time": "2020-12-07T18:05:53.328441",
     "status": "completed"
    },
    "tags": []
   },
   "outputs": [
    {
     "data": {
      "text/html": [
       "<div>\n",
       "<style scoped>\n",
       "    .dataframe tbody tr th:only-of-type {\n",
       "        vertical-align: middle;\n",
       "    }\n",
       "\n",
       "    .dataframe tbody tr th {\n",
       "        vertical-align: top;\n",
       "    }\n",
       "\n",
       "    .dataframe thead th {\n",
       "        text-align: right;\n",
       "    }\n",
       "</style>\n",
       "<table border=\"1\" class=\"dataframe\">\n",
       "  <thead>\n",
       "    <tr style=\"text-align: right;\">\n",
       "      <th></th>\n",
       "      <th>label</th>\n",
       "      <th>pixel0</th>\n",
       "      <th>pixel1</th>\n",
       "      <th>pixel2</th>\n",
       "      <th>pixel3</th>\n",
       "      <th>pixel4</th>\n",
       "      <th>pixel5</th>\n",
       "      <th>pixel6</th>\n",
       "      <th>pixel7</th>\n",
       "      <th>pixel8</th>\n",
       "      <th>...</th>\n",
       "      <th>pixel774</th>\n",
       "      <th>pixel775</th>\n",
       "      <th>pixel776</th>\n",
       "      <th>pixel777</th>\n",
       "      <th>pixel778</th>\n",
       "      <th>pixel779</th>\n",
       "      <th>pixel780</th>\n",
       "      <th>pixel781</th>\n",
       "      <th>pixel782</th>\n",
       "      <th>pixel783</th>\n",
       "    </tr>\n",
       "  </thead>\n",
       "  <tbody>\n",
       "    <tr>\n",
       "      <th>0</th>\n",
       "      <td>1</td>\n",
       "      <td>0</td>\n",
       "      <td>0</td>\n",
       "      <td>0</td>\n",
       "      <td>0</td>\n",
       "      <td>0</td>\n",
       "      <td>0</td>\n",
       "      <td>0</td>\n",
       "      <td>0</td>\n",
       "      <td>0</td>\n",
       "      <td>...</td>\n",
       "      <td>0</td>\n",
       "      <td>0</td>\n",
       "      <td>0</td>\n",
       "      <td>0</td>\n",
       "      <td>0</td>\n",
       "      <td>0</td>\n",
       "      <td>0</td>\n",
       "      <td>0</td>\n",
       "      <td>0</td>\n",
       "      <td>0</td>\n",
       "    </tr>\n",
       "    <tr>\n",
       "      <th>1</th>\n",
       "      <td>0</td>\n",
       "      <td>0</td>\n",
       "      <td>0</td>\n",
       "      <td>0</td>\n",
       "      <td>0</td>\n",
       "      <td>0</td>\n",
       "      <td>0</td>\n",
       "      <td>0</td>\n",
       "      <td>0</td>\n",
       "      <td>0</td>\n",
       "      <td>...</td>\n",
       "      <td>0</td>\n",
       "      <td>0</td>\n",
       "      <td>0</td>\n",
       "      <td>0</td>\n",
       "      <td>0</td>\n",
       "      <td>0</td>\n",
       "      <td>0</td>\n",
       "      <td>0</td>\n",
       "      <td>0</td>\n",
       "      <td>0</td>\n",
       "    </tr>\n",
       "    <tr>\n",
       "      <th>2</th>\n",
       "      <td>1</td>\n",
       "      <td>0</td>\n",
       "      <td>0</td>\n",
       "      <td>0</td>\n",
       "      <td>0</td>\n",
       "      <td>0</td>\n",
       "      <td>0</td>\n",
       "      <td>0</td>\n",
       "      <td>0</td>\n",
       "      <td>0</td>\n",
       "      <td>...</td>\n",
       "      <td>0</td>\n",
       "      <td>0</td>\n",
       "      <td>0</td>\n",
       "      <td>0</td>\n",
       "      <td>0</td>\n",
       "      <td>0</td>\n",
       "      <td>0</td>\n",
       "      <td>0</td>\n",
       "      <td>0</td>\n",
       "      <td>0</td>\n",
       "    </tr>\n",
       "    <tr>\n",
       "      <th>3</th>\n",
       "      <td>4</td>\n",
       "      <td>0</td>\n",
       "      <td>0</td>\n",
       "      <td>0</td>\n",
       "      <td>0</td>\n",
       "      <td>0</td>\n",
       "      <td>0</td>\n",
       "      <td>0</td>\n",
       "      <td>0</td>\n",
       "      <td>0</td>\n",
       "      <td>...</td>\n",
       "      <td>0</td>\n",
       "      <td>0</td>\n",
       "      <td>0</td>\n",
       "      <td>0</td>\n",
       "      <td>0</td>\n",
       "      <td>0</td>\n",
       "      <td>0</td>\n",
       "      <td>0</td>\n",
       "      <td>0</td>\n",
       "      <td>0</td>\n",
       "    </tr>\n",
       "    <tr>\n",
       "      <th>4</th>\n",
       "      <td>0</td>\n",
       "      <td>0</td>\n",
       "      <td>0</td>\n",
       "      <td>0</td>\n",
       "      <td>0</td>\n",
       "      <td>0</td>\n",
       "      <td>0</td>\n",
       "      <td>0</td>\n",
       "      <td>0</td>\n",
       "      <td>0</td>\n",
       "      <td>...</td>\n",
       "      <td>0</td>\n",
       "      <td>0</td>\n",
       "      <td>0</td>\n",
       "      <td>0</td>\n",
       "      <td>0</td>\n",
       "      <td>0</td>\n",
       "      <td>0</td>\n",
       "      <td>0</td>\n",
       "      <td>0</td>\n",
       "      <td>0</td>\n",
       "    </tr>\n",
       "  </tbody>\n",
       "</table>\n",
       "<p>5 rows × 785 columns</p>\n",
       "</div>"
      ],
      "text/plain": [
       "   label  pixel0  pixel1  pixel2  pixel3  pixel4  pixel5  pixel6  pixel7  \\\n",
       "0      1       0       0       0       0       0       0       0       0   \n",
       "1      0       0       0       0       0       0       0       0       0   \n",
       "2      1       0       0       0       0       0       0       0       0   \n",
       "3      4       0       0       0       0       0       0       0       0   \n",
       "4      0       0       0       0       0       0       0       0       0   \n",
       "\n",
       "   pixel8  ...  pixel774  pixel775  pixel776  pixel777  pixel778  pixel779  \\\n",
       "0       0  ...         0         0         0         0         0         0   \n",
       "1       0  ...         0         0         0         0         0         0   \n",
       "2       0  ...         0         0         0         0         0         0   \n",
       "3       0  ...         0         0         0         0         0         0   \n",
       "4       0  ...         0         0         0         0         0         0   \n",
       "\n",
       "   pixel780  pixel781  pixel782  pixel783  \n",
       "0         0         0         0         0  \n",
       "1         0         0         0         0  \n",
       "2         0         0         0         0  \n",
       "3         0         0         0         0  \n",
       "4         0         0         0         0  \n",
       "\n",
       "[5 rows x 785 columns]"
      ]
     },
     "execution_count": 4,
     "metadata": {},
     "output_type": "execute_result"
    }
   ],
   "source": [
    "df_train.head()  #784 features and 1 label"
   ]
  },
  {
   "cell_type": "code",
   "execution_count": 5,
   "metadata": {
    "execution": {
     "iopub.execute_input": "2020-12-07T18:05:53.437689Z",
     "iopub.status.busy": "2020-12-07T18:05:53.437052Z",
     "iopub.status.idle": "2020-12-07T18:05:53.440969Z",
     "shell.execute_reply": "2020-12-07T18:05:53.441680Z"
    },
    "papermill": {
     "duration": 0.031736,
     "end_time": "2020-12-07T18:05:53.441864",
     "exception": false,
     "start_time": "2020-12-07T18:05:53.410128",
     "status": "completed"
    },
    "tags": []
   },
   "outputs": [
    {
     "name": "stdout",
     "output_type": "stream",
     "text": [
      "(28000, 784)\n"
     ]
    }
   ],
   "source": [
    "df_features = df_train.iloc[:,1:785]\n",
    "df_label = df_train.iloc[:,0]\n",
    "\n",
    "X_test = df_test.iloc[:,0:784]\n",
    "print(X_test.shape)\n"
   ]
  },
  {
   "cell_type": "code",
   "execution_count": 6,
   "metadata": {
    "execution": {
     "iopub.execute_input": "2020-12-07T18:05:53.491169Z",
     "iopub.status.busy": "2020-12-07T18:05:53.490574Z",
     "iopub.status.idle": "2020-12-07T18:05:54.598294Z",
     "shell.execute_reply": "2020-12-07T18:05:54.597768Z"
    },
    "papermill": {
     "duration": 1.134197,
     "end_time": "2020-12-07T18:05:54.598403",
     "exception": false,
     "start_time": "2020-12-07T18:05:53.464206",
     "status": "completed"
    },
    "tags": []
   },
   "outputs": [],
   "source": [
    "from sklearn.model_selection import train_test_split\n",
    "X_train,X_val,y_train,y_val = train_test_split(df_features,df_label,test_size=0.2,random_state=10)\n"
   ]
  },
  {
   "cell_type": "code",
   "execution_count": 7,
   "metadata": {
    "execution": {
     "iopub.execute_input": "2020-12-07T18:05:54.647509Z",
     "iopub.status.busy": "2020-12-07T18:05:54.646754Z",
     "iopub.status.idle": "2020-12-07T18:05:54.651444Z",
     "shell.execute_reply": "2020-12-07T18:05:54.650644Z"
    },
    "papermill": {
     "duration": 0.031573,
     "end_time": "2020-12-07T18:05:54.651600",
     "exception": false,
     "start_time": "2020-12-07T18:05:54.620027",
     "status": "completed"
    },
    "tags": []
   },
   "outputs": [
    {
     "name": "stdout",
     "output_type": "stream",
     "text": [
      "(33600, 784)\n",
      "(8400, 784)\n",
      "(28000, 784)\n"
     ]
    }
   ],
   "source": [
    "print(X_train.shape)\n",
    "print(X_val.shape)\n",
    "print(X_test.shape)"
   ]
  },
  {
   "cell_type": "code",
   "execution_count": 8,
   "metadata": {
    "execution": {
     "iopub.execute_input": "2020-12-07T18:05:54.724154Z",
     "iopub.status.busy": "2020-12-07T18:05:54.723311Z",
     "iopub.status.idle": "2020-12-07T18:05:54.726444Z",
     "shell.execute_reply": "2020-12-07T18:05:54.727210Z"
    },
    "papermill": {
     "duration": 0.043191,
     "end_time": "2020-12-07T18:05:54.727362",
     "exception": false,
     "start_time": "2020-12-07T18:05:54.684171",
     "status": "completed"
    },
    "tags": []
   },
   "outputs": [
    {
     "name": "stdout",
     "output_type": "stream",
     "text": [
      "(0, 255)\n"
     ]
    }
   ],
   "source": [
    "print((min(X_train.iloc[1]), max(X_train.iloc[1])))"
   ]
  },
  {
   "cell_type": "code",
   "execution_count": 9,
   "metadata": {
    "execution": {
     "iopub.execute_input": "2020-12-07T18:05:54.800739Z",
     "iopub.status.busy": "2020-12-07T18:05:54.799941Z",
     "iopub.status.idle": "2020-12-07T18:05:54.942043Z",
     "shell.execute_reply": "2020-12-07T18:05:54.941332Z"
    },
    "papermill": {
     "duration": 0.181363,
     "end_time": "2020-12-07T18:05:54.942153",
     "exception": false,
     "start_time": "2020-12-07T18:05:54.760790",
     "status": "completed"
    },
    "tags": []
   },
   "outputs": [],
   "source": [
    "X_train = X_train.astype('float32')\n",
    "X_val= X_val.astype('float32')\n",
    "X_test = X_test.astype('float32')\n",
    "X_train /= 255; X_val /= 255; X_test /= 255"
   ]
  },
  {
   "cell_type": "code",
   "execution_count": 10,
   "metadata": {
    "execution": {
     "iopub.execute_input": "2020-12-07T18:05:54.992926Z",
     "iopub.status.busy": "2020-12-07T18:05:54.992309Z",
     "iopub.status.idle": "2020-12-07T18:05:54.998590Z",
     "shell.execute_reply": "2020-12-07T18:05:54.997962Z"
    },
    "papermill": {
     "duration": 0.03374,
     "end_time": "2020-12-07T18:05:54.998700",
     "exception": false,
     "start_time": "2020-12-07T18:05:54.964960",
     "status": "completed"
    },
    "tags": []
   },
   "outputs": [
    {
     "data": {
      "text/plain": [
       "3698     4\n",
       "13466    7\n",
       "21701    7\n",
       "29814    5\n",
       "17325    8\n",
       "        ..\n",
       "40059    4\n",
       "28017    2\n",
       "29199    5\n",
       "40061    6\n",
       "17673    0\n",
       "Name: label, Length: 33600, dtype: int64"
      ]
     },
     "execution_count": 10,
     "metadata": {},
     "output_type": "execute_result"
    }
   ],
   "source": [
    "y_train\n"
   ]
  },
  {
   "cell_type": "code",
   "execution_count": 11,
   "metadata": {
    "execution": {
     "iopub.execute_input": "2020-12-07T18:05:55.048592Z",
     "iopub.status.busy": "2020-12-07T18:05:55.047937Z",
     "iopub.status.idle": "2020-12-07T18:05:55.052531Z",
     "shell.execute_reply": "2020-12-07T18:05:55.053098Z"
    },
    "papermill": {
     "duration": 0.031017,
     "end_time": "2020-12-07T18:05:55.053220",
     "exception": false,
     "start_time": "2020-12-07T18:05:55.022203",
     "status": "completed"
    },
    "tags": []
   },
   "outputs": [],
   "source": [
    "# Convert labels to One Hot Encoded\n",
    "num_digits = 10\n",
    "y_train = keras.utils.to_categorical(y_train, num_digits)\n",
    "y_val = keras.utils.to_categorical(y_val, num_digits)\n"
   ]
  },
  {
   "cell_type": "code",
   "execution_count": 12,
   "metadata": {
    "execution": {
     "iopub.execute_input": "2020-12-07T18:05:55.102523Z",
     "iopub.status.busy": "2020-12-07T18:05:55.101913Z",
     "iopub.status.idle": "2020-12-07T18:05:55.109627Z",
     "shell.execute_reply": "2020-12-07T18:05:55.110302Z"
    },
    "papermill": {
     "duration": 0.03386,
     "end_time": "2020-12-07T18:05:55.110503",
     "exception": false,
     "start_time": "2020-12-07T18:05:55.076643",
     "status": "completed"
    },
    "tags": []
   },
   "outputs": [
    {
     "name": "stdout",
     "output_type": "stream",
     "text": [
      "[0. 0. 0. 0. 1. 0. 0. 0. 0. 0.]\n",
      "[0. 0. 0. 0. 0. 1. 0. 0. 0. 0.]\n"
     ]
    }
   ],
   "source": [
    "# Printing 2 examples of labels after conversion\n",
    "print(y_train[0]) # 4\n",
    "print(y_train[3]) # 5"
   ]
  },
  {
   "cell_type": "code",
   "execution_count": 13,
   "metadata": {
    "execution": {
     "iopub.execute_input": "2020-12-07T18:05:55.162110Z",
     "iopub.status.busy": "2020-12-07T18:05:55.161525Z",
     "iopub.status.idle": "2020-12-07T18:05:55.167918Z",
     "shell.execute_reply": "2020-12-07T18:05:55.167390Z"
    },
    "papermill": {
     "duration": 0.032752,
     "end_time": "2020-12-07T18:05:55.168013",
     "exception": false,
     "start_time": "2020-12-07T18:05:55.135261",
     "status": "completed"
    },
    "tags": []
   },
   "outputs": [],
   "source": [
    "# Starting Model fitting\n",
    "\n",
    "# Input Parameters\n",
    "n_input = 784 # number of features\n",
    "n_hidden_1 = 300\n",
    "n_hidden_2 = 100\n",
    "n_hidden_3 = 100\n",
    "n_hidden_4 = 200\n",
    "num_digits = 10"
   ]
  },
  {
   "cell_type": "code",
   "execution_count": 14,
   "metadata": {
    "execution": {
     "iopub.execute_input": "2020-12-07T18:05:55.224920Z",
     "iopub.status.busy": "2020-12-07T18:05:55.223992Z",
     "iopub.status.idle": "2020-12-07T18:05:55.339744Z",
     "shell.execute_reply": "2020-12-07T18:05:55.340373Z"
    },
    "papermill": {
     "duration": 0.148608,
     "end_time": "2020-12-07T18:05:55.340567",
     "exception": false,
     "start_time": "2020-12-07T18:05:55.191959",
     "status": "completed"
    },
    "tags": []
   },
   "outputs": [],
   "source": [
    "Inp = Input(shape=(784,))\n",
    "x = Dense(n_hidden_1, activation='relu', name = \"Hidden_Layer_1\")(Inp)\n",
    "x = Dense(n_hidden_2, activation='relu', name = \"Hidden_Layer_2\")(x)\n",
    "x = Dense(n_hidden_3, activation='relu', name = \"Hidden_Layer_3\")(x)\n",
    "x = Dense(n_hidden_4, activation='relu', name = \"Hidden_Layer_4\")(x)\n",
    "output = Dense(num_digits, activation='softmax', name = \"Output_Layer\")(x)"
   ]
  },
  {
   "cell_type": "code",
   "execution_count": 15,
   "metadata": {
    "execution": {
     "iopub.execute_input": "2020-12-07T18:05:55.415247Z",
     "iopub.status.busy": "2020-12-07T18:05:55.414410Z",
     "iopub.status.idle": "2020-12-07T18:05:55.433809Z",
     "shell.execute_reply": "2020-12-07T18:05:55.434781Z"
    },
    "papermill": {
     "duration": 0.058528,
     "end_time": "2020-12-07T18:05:55.434984",
     "exception": false,
     "start_time": "2020-12-07T18:05:55.376456",
     "status": "completed"
    },
    "tags": []
   },
   "outputs": [
    {
     "name": "stdout",
     "output_type": "stream",
     "text": [
      "Model: \"functional_1\"\n",
      "_________________________________________________________________\n",
      "Layer (type)                 Output Shape              Param #   \n",
      "=================================================================\n",
      "input_1 (InputLayer)         [(None, 784)]             0         \n",
      "_________________________________________________________________\n",
      "Hidden_Layer_1 (Dense)       (None, 300)               235500    \n",
      "_________________________________________________________________\n",
      "Hidden_Layer_2 (Dense)       (None, 100)               30100     \n",
      "_________________________________________________________________\n",
      "Hidden_Layer_3 (Dense)       (None, 100)               10100     \n",
      "_________________________________________________________________\n",
      "Hidden_Layer_4 (Dense)       (None, 200)               20200     \n",
      "_________________________________________________________________\n",
      "Output_Layer (Dense)         (None, 10)                2010      \n",
      "=================================================================\n",
      "Total params: 297,910\n",
      "Trainable params: 297,910\n",
      "Non-trainable params: 0\n",
      "_________________________________________________________________\n"
     ]
    }
   ],
   "source": [
    "# our model has input layers=1 hidden layers=4 output layer=1 \n",
    "# Total layers=6\n",
    "\n",
    "model = Model(Inp, output)\n",
    "model.summary() # We have 297,910 parameters to estimate|"
   ]
  },
  {
   "cell_type": "code",
   "execution_count": 16,
   "metadata": {
    "execution": {
     "iopub.execute_input": "2020-12-07T18:05:55.515221Z",
     "iopub.status.busy": "2020-12-07T18:05:55.514326Z",
     "iopub.status.idle": "2020-12-07T18:05:55.518638Z",
     "shell.execute_reply": "2020-12-07T18:05:55.518003Z"
    },
    "papermill": {
     "duration": 0.047101,
     "end_time": "2020-12-07T18:05:55.518763",
     "exception": false,
     "start_time": "2020-12-07T18:05:55.471662",
     "status": "completed"
    },
    "tags": []
   },
   "outputs": [],
   "source": [
    "# inserting hyperparameters\n",
    "\n",
    "learning_rate = 0.1\n",
    "training_epochs = 20\n",
    "batch_size = 100\n",
    "sgd = optimizers.SGD(lr=learning_rate)\n",
    "\n",
    "# we are using  Stochastic Gradient Descent"
   ]
  },
  {
   "cell_type": "code",
   "execution_count": 17,
   "metadata": {
    "execution": {
     "iopub.execute_input": "2020-12-07T18:05:55.580537Z",
     "iopub.status.busy": "2020-12-07T18:05:55.579900Z",
     "iopub.status.idle": "2020-12-07T18:05:55.587965Z",
     "shell.execute_reply": "2020-12-07T18:05:55.587356Z"
    },
    "papermill": {
     "duration": 0.044153,
     "end_time": "2020-12-07T18:05:55.588062",
     "exception": false,
     "start_time": "2020-12-07T18:05:55.543909",
     "status": "completed"
    },
    "tags": []
   },
   "outputs": [],
   "source": [
    "model.compile(loss='categorical_crossentropy',\n",
    "              optimizer='sgd',\n",
    "              metrics=['accuracy'])"
   ]
  },
  {
   "cell_type": "code",
   "execution_count": 18,
   "metadata": {
    "execution": {
     "iopub.execute_input": "2020-12-07T18:05:55.642623Z",
     "iopub.status.busy": "2020-12-07T18:05:55.641999Z",
     "iopub.status.idle": "2020-12-07T18:06:24.393985Z",
     "shell.execute_reply": "2020-12-07T18:06:24.394826Z"
    },
    "papermill": {
     "duration": 28.782245,
     "end_time": "2020-12-07T18:06:24.394997",
     "exception": false,
     "start_time": "2020-12-07T18:05:55.612752",
     "status": "completed"
    },
    "tags": []
   },
   "outputs": [
    {
     "name": "stdout",
     "output_type": "stream",
     "text": [
      "Epoch 1/20\n",
      "336/336 - 2s - loss: 1.7062 - accuracy: 0.5672 - val_loss: 0.8432 - val_accuracy: 0.7820\n",
      "Epoch 2/20\n",
      "336/336 - 1s - loss: 0.5811 - accuracy: 0.8371 - val_loss: 0.4579 - val_accuracy: 0.8676\n",
      "Epoch 3/20\n",
      "336/336 - 1s - loss: 0.3988 - accuracy: 0.8842 - val_loss: 0.3666 - val_accuracy: 0.8950\n",
      "Epoch 4/20\n",
      "336/336 - 1s - loss: 0.3361 - accuracy: 0.9022 - val_loss: 0.3200 - val_accuracy: 0.9088\n",
      "Epoch 5/20\n",
      "336/336 - 1s - loss: 0.3006 - accuracy: 0.9127 - val_loss: 0.2901 - val_accuracy: 0.9177\n",
      "Epoch 6/20\n",
      "336/336 - 1s - loss: 0.2735 - accuracy: 0.9204 - val_loss: 0.2668 - val_accuracy: 0.9219\n",
      "Epoch 7/20\n",
      "336/336 - 1s - loss: 0.2517 - accuracy: 0.9261 - val_loss: 0.2575 - val_accuracy: 0.9249\n",
      "Epoch 8/20\n",
      "336/336 - 1s - loss: 0.2341 - accuracy: 0.9314 - val_loss: 0.2348 - val_accuracy: 0.9317\n",
      "Epoch 9/20\n",
      "336/336 - 1s - loss: 0.2179 - accuracy: 0.9363 - val_loss: 0.2274 - val_accuracy: 0.9320\n",
      "Epoch 10/20\n",
      "336/336 - 1s - loss: 0.2043 - accuracy: 0.9405 - val_loss: 0.2081 - val_accuracy: 0.9390\n",
      "Epoch 11/20\n",
      "336/336 - 1s - loss: 0.1909 - accuracy: 0.9450 - val_loss: 0.1950 - val_accuracy: 0.9413\n",
      "Epoch 12/20\n",
      "336/336 - 1s - loss: 0.1793 - accuracy: 0.9479 - val_loss: 0.1885 - val_accuracy: 0.9429\n",
      "Epoch 13/20\n",
      "336/336 - 2s - loss: 0.1686 - accuracy: 0.9509 - val_loss: 0.1807 - val_accuracy: 0.9456\n",
      "Epoch 14/20\n",
      "336/336 - 1s - loss: 0.1597 - accuracy: 0.9539 - val_loss: 0.1688 - val_accuracy: 0.9501\n",
      "Epoch 15/20\n",
      "336/336 - 1s - loss: 0.1509 - accuracy: 0.9558 - val_loss: 0.1625 - val_accuracy: 0.9515\n",
      "Epoch 16/20\n",
      "336/336 - 1s - loss: 0.1421 - accuracy: 0.9586 - val_loss: 0.1560 - val_accuracy: 0.9532\n",
      "Epoch 17/20\n",
      "336/336 - 1s - loss: 0.1343 - accuracy: 0.9617 - val_loss: 0.1501 - val_accuracy: 0.9562\n",
      "Epoch 18/20\n",
      "336/336 - 1s - loss: 0.1284 - accuracy: 0.9625 - val_loss: 0.1463 - val_accuracy: 0.9545\n",
      "Epoch 19/20\n",
      "336/336 - 1s - loss: 0.1211 - accuracy: 0.9662 - val_loss: 0.1409 - val_accuracy: 0.9571\n",
      "Epoch 20/20\n",
      "336/336 - 1s - loss: 0.1158 - accuracy: 0.9676 - val_loss: 0.1377 - val_accuracy: 0.9594\n"
     ]
    }
   ],
   "source": [
    "hist1 = model.fit(X_train, y_train,\n",
    "                     batch_size = batch_size,\n",
    "                     epochs = training_epochs,\n",
    "                     verbose = 2,\n",
    "                     validation_data=(X_val, y_val))"
   ]
  },
  {
   "cell_type": "code",
   "execution_count": 19,
   "metadata": {
    "execution": {
     "iopub.execute_input": "2020-12-07T18:06:24.476968Z",
     "iopub.status.busy": "2020-12-07T18:06:24.476286Z",
     "iopub.status.idle": "2020-12-07T18:06:24.480425Z",
     "shell.execute_reply": "2020-12-07T18:06:24.479855Z"
    },
    "papermill": {
     "duration": 0.046015,
     "end_time": "2020-12-07T18:06:24.480567",
     "exception": false,
     "start_time": "2020-12-07T18:06:24.434552",
     "status": "completed"
    },
    "tags": []
   },
   "outputs": [],
   "source": [
    "#Achieved a training score of around >98% and a test score of around >96%\n",
    "\n",
    "#lets try out with different optimization technique"
   ]
  },
  {
   "cell_type": "code",
   "execution_count": 20,
   "metadata": {
    "execution": {
     "iopub.execute_input": "2020-12-07T18:06:24.568408Z",
     "iopub.status.busy": "2020-12-07T18:06:24.567510Z",
     "iopub.status.idle": "2020-12-07T18:06:24.622295Z",
     "shell.execute_reply": "2020-12-07T18:06:24.621619Z"
    },
    "papermill": {
     "duration": 0.103229,
     "end_time": "2020-12-07T18:06:24.622405",
     "exception": false,
     "start_time": "2020-12-07T18:06:24.519176",
     "status": "completed"
    },
    "tags": []
   },
   "outputs": [],
   "source": [
    "Inp = Input(shape=(784,))\n",
    "x = Dense(n_hidden_1, activation='relu', name = \"Hidden_Layer_1\")(Inp)\n",
    "x = Dense(n_hidden_2, activation='relu', name = \"Hidden_Layer_2\")(x)\n",
    "x = Dense(n_hidden_3, activation='relu', name = \"Hidden_Layer_3\")(x)\n",
    "x = Dense(n_hidden_4, activation='relu', name = \"Hidden_Layer_4\")(x)\n",
    "output = Dense(num_digits, activation='softmax', name = \"Output_Layer\")(x)\n",
    "\n",
    "# We rely on ADAM as our optimizing methodology\n",
    "adam = keras.optimizers.Adam(lr=learning_rate)\n",
    "model2 = Model(Inp, output)\n",
    "\n",
    "model2.compile(loss='categorical_crossentropy',\n",
    "              optimizer='adam',\n",
    "              metrics=['accuracy'])"
   ]
  },
  {
   "cell_type": "code",
   "execution_count": 21,
   "metadata": {
    "execution": {
     "iopub.execute_input": "2020-12-07T18:06:24.707493Z",
     "iopub.status.busy": "2020-12-07T18:06:24.706785Z",
     "iopub.status.idle": "2020-12-07T18:06:55.921801Z",
     "shell.execute_reply": "2020-12-07T18:06:55.922317Z"
    },
    "papermill": {
     "duration": 31.260503,
     "end_time": "2020-12-07T18:06:55.922445",
     "exception": false,
     "start_time": "2020-12-07T18:06:24.661942",
     "status": "completed"
    },
    "tags": []
   },
   "outputs": [
    {
     "name": "stdout",
     "output_type": "stream",
     "text": [
      "Epoch 1/20\n",
      "336/336 - 2s - loss: 0.3350 - accuracy: 0.8992 - val_loss: 0.1517 - val_accuracy: 0.9554\n",
      "Epoch 2/20\n",
      "336/336 - 2s - loss: 0.1247 - accuracy: 0.9618 - val_loss: 0.1185 - val_accuracy: 0.9635\n",
      "Epoch 3/20\n",
      "336/336 - 2s - loss: 0.0842 - accuracy: 0.9740 - val_loss: 0.1016 - val_accuracy: 0.9683\n",
      "Epoch 4/20\n",
      "336/336 - 1s - loss: 0.0580 - accuracy: 0.9819 - val_loss: 0.0917 - val_accuracy: 0.9721\n",
      "Epoch 5/20\n",
      "336/336 - 2s - loss: 0.0467 - accuracy: 0.9851 - val_loss: 0.1079 - val_accuracy: 0.9674\n",
      "Epoch 6/20\n",
      "336/336 - 2s - loss: 0.0361 - accuracy: 0.9883 - val_loss: 0.1068 - val_accuracy: 0.9706\n",
      "Epoch 7/20\n",
      "336/336 - 1s - loss: 0.0296 - accuracy: 0.9901 - val_loss: 0.1279 - val_accuracy: 0.9646\n",
      "Epoch 8/20\n",
      "336/336 - 2s - loss: 0.0279 - accuracy: 0.9910 - val_loss: 0.1264 - val_accuracy: 0.9669\n",
      "Epoch 9/20\n",
      "336/336 - 1s - loss: 0.0231 - accuracy: 0.9932 - val_loss: 0.1156 - val_accuracy: 0.9701\n",
      "Epoch 10/20\n",
      "336/336 - 2s - loss: 0.0174 - accuracy: 0.9947 - val_loss: 0.0939 - val_accuracy: 0.9764\n",
      "Epoch 11/20\n",
      "336/336 - 2s - loss: 0.0173 - accuracy: 0.9945 - val_loss: 0.1013 - val_accuracy: 0.9742\n",
      "Epoch 12/20\n",
      "336/336 - 1s - loss: 0.0182 - accuracy: 0.9939 - val_loss: 0.1330 - val_accuracy: 0.9711\n",
      "Epoch 13/20\n",
      "336/336 - 2s - loss: 0.0221 - accuracy: 0.9924 - val_loss: 0.1340 - val_accuracy: 0.9701\n",
      "Epoch 14/20\n",
      "336/336 - 2s - loss: 0.0146 - accuracy: 0.9950 - val_loss: 0.1133 - val_accuracy: 0.9743\n",
      "Epoch 15/20\n",
      "336/336 - 1s - loss: 0.0122 - accuracy: 0.9961 - val_loss: 0.1547 - val_accuracy: 0.9692\n",
      "Epoch 16/20\n",
      "336/336 - 1s - loss: 0.0136 - accuracy: 0.9955 - val_loss: 0.1246 - val_accuracy: 0.9723\n",
      "Epoch 17/20\n",
      "336/336 - 1s - loss: 0.0159 - accuracy: 0.9950 - val_loss: 0.1361 - val_accuracy: 0.9737\n",
      "Epoch 18/20\n",
      "336/336 - 1s - loss: 0.0153 - accuracy: 0.9955 - val_loss: 0.1298 - val_accuracy: 0.9732\n",
      "Epoch 19/20\n",
      "336/336 - 1s - loss: 0.0090 - accuracy: 0.9972 - val_loss: 0.1343 - val_accuracy: 0.9742\n",
      "Epoch 20/20\n",
      "336/336 - 1s - loss: 0.0125 - accuracy: 0.9961 - val_loss: 0.1372 - val_accuracy: 0.9738\n"
     ]
    }
   ],
   "source": [
    "history2 = model2.fit(X_train, y_train,\n",
    "                      batch_size = batch_size,\n",
    "                      epochs = training_epochs,\n",
    "                      verbose = 2,\n",
    "                      validation_data=(X_val, y_val))"
   ]
  },
  {
   "cell_type": "code",
   "execution_count": 22,
   "metadata": {
    "execution": {
     "iopub.execute_input": "2020-12-07T18:06:56.037431Z",
     "iopub.status.busy": "2020-12-07T18:06:56.035942Z",
     "iopub.status.idle": "2020-12-07T18:06:56.040026Z",
     "shell.execute_reply": "2020-12-07T18:06:56.039407Z"
    },
    "papermill": {
     "duration": 0.063034,
     "end_time": "2020-12-07T18:06:56.040138",
     "exception": false,
     "start_time": "2020-12-07T18:06:55.977104",
     "status": "completed"
    },
    "tags": []
   },
   "outputs": [],
   "source": [
    "#Achieved a training score of around 99.5% and a test score of around 97.5%"
   ]
  },
  {
   "cell_type": "code",
   "execution_count": 23,
   "metadata": {
    "execution": {
     "iopub.execute_input": "2020-12-07T18:06:56.157680Z",
     "iopub.status.busy": "2020-12-07T18:06:56.154106Z",
     "iopub.status.idle": "2020-12-07T18:06:56.222257Z",
     "shell.execute_reply": "2020-12-07T18:06:56.222751Z"
    },
    "papermill": {
     "duration": 0.129462,
     "end_time": "2020-12-07T18:06:56.222893",
     "exception": false,
     "start_time": "2020-12-07T18:06:56.093431",
     "status": "completed"
    },
    "tags": []
   },
   "outputs": [],
   "source": [
    "# Now we will use Dropouts to prevent overfitting\n",
    "\n",
    "Inp = Input(shape=(784,))\n",
    "x = Dense(n_hidden_1, activation='relu', name = \"Hidden_Layer_1\")(Inp)\n",
    "x = Dropout(0.3)(x)\n",
    "x = Dense(n_hidden_2, activation='relu', name = \"Hidden_Layer_2\")(x)\n",
    "x = Dropout(0.3)(x)\n",
    "x = Dense(n_hidden_3, activation='relu', name = \"Hidden_Layer_3\")(x)\n",
    "x = Dropout(0.3)(x)\n",
    "x = Dense(n_hidden_4, activation='relu', name = \"Hidden_Layer_4\")(x)\n",
    "output = Dense(num_digits, activation='softmax', name = \"Output_Layer\")(x)"
   ]
  },
  {
   "cell_type": "code",
   "execution_count": 24,
   "metadata": {
    "execution": {
     "iopub.execute_input": "2020-12-07T18:06:56.334987Z",
     "iopub.status.busy": "2020-12-07T18:06:56.333810Z",
     "iopub.status.idle": "2020-12-07T18:06:56.348074Z",
     "shell.execute_reply": "2020-12-07T18:06:56.348808Z"
    },
    "papermill": {
     "duration": 0.073537,
     "end_time": "2020-12-07T18:06:56.348970",
     "exception": false,
     "start_time": "2020-12-07T18:06:56.275433",
     "status": "completed"
    },
    "tags": []
   },
   "outputs": [
    {
     "name": "stdout",
     "output_type": "stream",
     "text": [
      "Model: \"functional_5\"\n",
      "_________________________________________________________________\n",
      "Layer (type)                 Output Shape              Param #   \n",
      "=================================================================\n",
      "input_3 (InputLayer)         [(None, 784)]             0         \n",
      "_________________________________________________________________\n",
      "Hidden_Layer_1 (Dense)       (None, 300)               235500    \n",
      "_________________________________________________________________\n",
      "dropout (Dropout)            (None, 300)               0         \n",
      "_________________________________________________________________\n",
      "Hidden_Layer_2 (Dense)       (None, 100)               30100     \n",
      "_________________________________________________________________\n",
      "dropout_1 (Dropout)          (None, 100)               0         \n",
      "_________________________________________________________________\n",
      "Hidden_Layer_3 (Dense)       (None, 100)               10100     \n",
      "_________________________________________________________________\n",
      "dropout_2 (Dropout)          (None, 100)               0         \n",
      "_________________________________________________________________\n",
      "Hidden_Layer_4 (Dense)       (None, 200)               20200     \n",
      "_________________________________________________________________\n",
      "Output_Layer (Dense)         (None, 10)                2010      \n",
      "=================================================================\n",
      "Total params: 297,910\n",
      "Trainable params: 297,910\n",
      "Non-trainable params: 0\n",
      "_________________________________________________________________\n"
     ]
    }
   ],
   "source": [
    "model3 = Model(Inp, output)\n",
    "model3.summary() # We have 297,910 parameters to estimate"
   ]
  },
  {
   "cell_type": "code",
   "execution_count": 25,
   "metadata": {
    "execution": {
     "iopub.execute_input": "2020-12-07T18:06:56.520774Z",
     "iopub.status.busy": "2020-12-07T18:06:56.520096Z",
     "iopub.status.idle": "2020-12-07T18:06:56.525466Z",
     "shell.execute_reply": "2020-12-07T18:06:56.524460Z"
    },
    "papermill": {
     "duration": 0.09666,
     "end_time": "2020-12-07T18:06:56.525600",
     "exception": false,
     "start_time": "2020-12-07T18:06:56.428940",
     "status": "completed"
    },
    "tags": []
   },
   "outputs": [],
   "source": [
    "model3.compile(loss='categorical_crossentropy',\n",
    "              optimizer='adam',\n",
    "              metrics=['accuracy'])"
   ]
  },
  {
   "cell_type": "code",
   "execution_count": 26,
   "metadata": {
    "execution": {
     "iopub.execute_input": "2020-12-07T18:06:56.641587Z",
     "iopub.status.busy": "2020-12-07T18:06:56.639075Z",
     "iopub.status.idle": "2020-12-07T18:07:31.727254Z",
     "shell.execute_reply": "2020-12-07T18:07:31.726378Z"
    },
    "papermill": {
     "duration": 35.147544,
     "end_time": "2020-12-07T18:07:31.727385",
     "exception": false,
     "start_time": "2020-12-07T18:06:56.579841",
     "status": "completed"
    },
    "tags": []
   },
   "outputs": [
    {
     "name": "stdout",
     "output_type": "stream",
     "text": [
      "Epoch 1/20\n",
      "336/336 [==============================] - 2s 6ms/step - loss: 0.5838 - accuracy: 0.8100 - val_loss: 0.1822 - val_accuracy: 0.9454\n",
      "Epoch 2/20\n",
      "336/336 [==============================] - 2s 5ms/step - loss: 0.2294 - accuracy: 0.9326 - val_loss: 0.1349 - val_accuracy: 0.9607\n",
      "Epoch 3/20\n",
      "336/336 [==============================] - 2s 5ms/step - loss: 0.1694 - accuracy: 0.9514 - val_loss: 0.1165 - val_accuracy: 0.9644\n",
      "Epoch 4/20\n",
      "336/336 [==============================] - 2s 5ms/step - loss: 0.1412 - accuracy: 0.9587 - val_loss: 0.1019 - val_accuracy: 0.9682\n",
      "Epoch 5/20\n",
      "336/336 [==============================] - 2s 5ms/step - loss: 0.1224 - accuracy: 0.9636 - val_loss: 0.1020 - val_accuracy: 0.9711\n",
      "Epoch 6/20\n",
      "336/336 [==============================] - 2s 5ms/step - loss: 0.1106 - accuracy: 0.9683 - val_loss: 0.0955 - val_accuracy: 0.9705\n",
      "Epoch 7/20\n",
      "336/336 [==============================] - 2s 5ms/step - loss: 0.0972 - accuracy: 0.9719 - val_loss: 0.0809 - val_accuracy: 0.9773\n",
      "Epoch 8/20\n",
      "336/336 [==============================] - 2s 5ms/step - loss: 0.0877 - accuracy: 0.9739 - val_loss: 0.0826 - val_accuracy: 0.9765\n",
      "Epoch 9/20\n",
      "336/336 [==============================] - 2s 5ms/step - loss: 0.0779 - accuracy: 0.9776 - val_loss: 0.0965 - val_accuracy: 0.9717\n",
      "Epoch 10/20\n",
      "336/336 [==============================] - 2s 5ms/step - loss: 0.0794 - accuracy: 0.9758 - val_loss: 0.0766 - val_accuracy: 0.9779\n",
      "Epoch 11/20\n",
      "336/336 [==============================] - 2s 5ms/step - loss: 0.0663 - accuracy: 0.9802 - val_loss: 0.0808 - val_accuracy: 0.9775\n",
      "Epoch 12/20\n",
      "336/336 [==============================] - 2s 6ms/step - loss: 0.0665 - accuracy: 0.9799 - val_loss: 0.0885 - val_accuracy: 0.9760\n",
      "Epoch 13/20\n",
      "336/336 [==============================] - 2s 5ms/step - loss: 0.0655 - accuracy: 0.9806 - val_loss: 0.0869 - val_accuracy: 0.9756\n",
      "Epoch 14/20\n",
      "336/336 [==============================] - 2s 5ms/step - loss: 0.0561 - accuracy: 0.9832 - val_loss: 0.0874 - val_accuracy: 0.9770\n",
      "Epoch 15/20\n",
      "336/336 [==============================] - 2s 5ms/step - loss: 0.0559 - accuracy: 0.9832 - val_loss: 0.0915 - val_accuracy: 0.9765\n",
      "Epoch 16/20\n",
      "336/336 [==============================] - 2s 5ms/step - loss: 0.0535 - accuracy: 0.9839 - val_loss: 0.0884 - val_accuracy: 0.9762\n",
      "Epoch 17/20\n",
      "336/336 [==============================] - 2s 5ms/step - loss: 0.0482 - accuracy: 0.9858 - val_loss: 0.0922 - val_accuracy: 0.9763\n",
      "Epoch 18/20\n",
      "336/336 [==============================] - 2s 5ms/step - loss: 0.0469 - accuracy: 0.9859 - val_loss: 0.0923 - val_accuracy: 0.9767\n",
      "Epoch 19/20\n",
      "336/336 [==============================] - 2s 6ms/step - loss: 0.0447 - accuracy: 0.9866 - val_loss: 0.0855 - val_accuracy: 0.9783\n",
      "Epoch 20/20\n",
      "336/336 [==============================] - 2s 5ms/step - loss: 0.0459 - accuracy: 0.9865 - val_loss: 0.0931 - val_accuracy: 0.9775\n"
     ]
    }
   ],
   "source": [
    "history3 = model3.fit(X_train, y_train,\n",
    "                    batch_size = batch_size,\n",
    "                    epochs = training_epochs,\n",
    "                    validation_data=(X_val, y_val))"
   ]
  },
  {
   "cell_type": "code",
   "execution_count": 27,
   "metadata": {
    "execution": {
     "iopub.execute_input": "2020-12-07T18:07:32.525844Z",
     "iopub.status.busy": "2020-12-07T18:07:32.524782Z",
     "iopub.status.idle": "2020-12-07T18:07:32.529582Z",
     "shell.execute_reply": "2020-12-07T18:07:32.528822Z"
    },
    "papermill": {
     "duration": 0.406169,
     "end_time": "2020-12-07T18:07:32.529696",
     "exception": false,
     "start_time": "2020-12-07T18:07:32.123527",
     "status": "completed"
    },
    "tags": []
   },
   "outputs": [],
   "source": [
    "# Achieved val accuracy close to 98%\n",
    "# lets run this model with test data"
   ]
  },
  {
   "cell_type": "code",
   "execution_count": 28,
   "metadata": {
    "execution": {
     "iopub.execute_input": "2020-12-07T18:07:33.076393Z",
     "iopub.status.busy": "2020-12-07T18:07:33.075792Z",
     "iopub.status.idle": "2020-12-07T18:07:33.732983Z",
     "shell.execute_reply": "2020-12-07T18:07:33.732016Z"
    },
    "papermill": {
     "duration": 0.930191,
     "end_time": "2020-12-07T18:07:33.733141",
     "exception": false,
     "start_time": "2020-12-07T18:07:32.802950",
     "status": "completed"
    },
    "tags": []
   },
   "outputs": [
    {
     "data": {
      "text/html": [
       "<div>\n",
       "<style scoped>\n",
       "    .dataframe tbody tr th:only-of-type {\n",
       "        vertical-align: middle;\n",
       "    }\n",
       "\n",
       "    .dataframe tbody tr th {\n",
       "        vertical-align: top;\n",
       "    }\n",
       "\n",
       "    .dataframe thead th {\n",
       "        text-align: right;\n",
       "    }\n",
       "</style>\n",
       "<table border=\"1\" class=\"dataframe\">\n",
       "  <thead>\n",
       "    <tr style=\"text-align: right;\">\n",
       "      <th></th>\n",
       "      <th>ImageId</th>\n",
       "      <th>Label</th>\n",
       "    </tr>\n",
       "  </thead>\n",
       "  <tbody>\n",
       "    <tr>\n",
       "      <th>0</th>\n",
       "      <td>1</td>\n",
       "      <td>2</td>\n",
       "    </tr>\n",
       "    <tr>\n",
       "      <th>1</th>\n",
       "      <td>2</td>\n",
       "      <td>0</td>\n",
       "    </tr>\n",
       "    <tr>\n",
       "      <th>2</th>\n",
       "      <td>3</td>\n",
       "      <td>9</td>\n",
       "    </tr>\n",
       "    <tr>\n",
       "      <th>3</th>\n",
       "      <td>4</td>\n",
       "      <td>9</td>\n",
       "    </tr>\n",
       "    <tr>\n",
       "      <th>4</th>\n",
       "      <td>5</td>\n",
       "      <td>3</td>\n",
       "    </tr>\n",
       "  </tbody>\n",
       "</table>\n",
       "</div>"
      ],
      "text/plain": [
       "   ImageId  Label\n",
       "0        1      2\n",
       "1        2      0\n",
       "2        3      9\n",
       "3        4      9\n",
       "4        5      3"
      ]
     },
     "execution_count": 28,
     "metadata": {},
     "output_type": "execute_result"
    }
   ],
   "source": [
    "test_pred = pd.DataFrame(model3.predict(X_test, batch_size=200))\n",
    "test_pred = pd.DataFrame(test_pred.idxmax(axis = 1))\n",
    "test_pred.index.name = 'ImageId'\n",
    "test_pred = test_pred.rename(columns = {0: 'Label'}).reset_index()\n",
    "test_pred['ImageId'] = test_pred['ImageId'] + 1\n",
    "\n",
    "test_pred.head()"
   ]
  },
  {
   "cell_type": "code",
   "execution_count": 29,
   "metadata": {
    "execution": {
     "iopub.execute_input": "2020-12-07T18:07:34.302340Z",
     "iopub.status.busy": "2020-12-07T18:07:34.301750Z",
     "iopub.status.idle": "2020-12-07T18:07:34.617820Z",
     "shell.execute_reply": "2020-12-07T18:07:34.617179Z"
    },
    "papermill": {
     "duration": 0.592965,
     "end_time": "2020-12-07T18:07:34.617933",
     "exception": false,
     "start_time": "2020-12-07T18:07:34.024968",
     "status": "completed"
    },
    "tags": []
   },
   "outputs": [],
   "source": [
    "test_pred.to_csv('mnist_submission.csv', index = False)"
   ]
  },
  {
   "cell_type": "code",
   "execution_count": null,
   "metadata": {
    "papermill": {
     "duration": 0.265174,
     "end_time": "2020-12-07T18:07:35.148323",
     "exception": false,
     "start_time": "2020-12-07T18:07:34.883149",
     "status": "completed"
    },
    "tags": []
   },
   "outputs": [],
   "source": []
  }
 ],
 "metadata": {
  "kernelspec": {
   "display_name": "Python 3",
   "language": "python",
   "name": "python3"
  },
  "language_info": {
   "codemirror_mode": {
    "name": "ipython",
    "version": 3
   },
   "file_extension": ".py",
   "mimetype": "text/x-python",
   "name": "python",
   "nbconvert_exporter": "python",
   "pygments_lexer": "ipython3",
   "version": "3.7.6"
  },
  "papermill": {
   "duration": 119.502583,
   "end_time": "2020-12-07T18:07:35.519696",
   "environment_variables": {},
   "exception": null,
   "input_path": "__notebook__.ipynb",
   "output_path": "__notebook__.ipynb",
   "parameters": {},
   "start_time": "2020-12-07T18:05:36.017113",
   "version": "2.1.0"
  }
 },
 "nbformat": 4,
 "nbformat_minor": 4
}
